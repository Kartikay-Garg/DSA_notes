{
 "cells": [
  {
   "cell_type": "code",
   "execution_count": 11,
   "id": "d9f5bc04-f0be-4403-9939-7fffd0f78788",
   "metadata": {},
   "outputs": [
    {
     "name": "stdout",
     "output_type": "stream",
     "text": [
      "[5, 15, 20, 30, 50, 70, 90]\n"
     ]
    }
   ],
   "source": [
    "# Bubble sort implementation\n",
    "l = [70,20,50,30,90,5,15]\n",
    "for i in range(len(l)):\n",
    "    for j in range(0,len(l)-i-1):\n",
    "        if l[j]>l[j+1]:\n",
    "            temp = l[j]\n",
    "            l[j] = l[j+1]\n",
    "            l[j+1] = temp\n",
    "\n",
    "print(l)"
   ]
  },
  {
   "cell_type": "code",
   "execution_count": 12,
   "id": "0a302e32-5b23-4e12-acf4-4662a66a3cc3",
   "metadata": {},
   "outputs": [
    {
     "name": "stdout",
     "output_type": "stream",
     "text": [
      "[19, 27, 29, 38, 45, 50, 79]\n"
     ]
    }
   ],
   "source": [
    "# Selection sort implementation\n",
    "l1 = [50,38,45,79,19,27,29]\n",
    "n = len(l1)\n",
    "n = len(l1)\n",
    "for i in range(0,n):\n",
    "    min_idx = i\n",
    "    for j in range(i+1,n):\n",
    "        if l1[j]<l1[min_idx]:\n",
    "            min_idx = j\n",
    "    l1[i], l1[min_idx]= l1[min_idx],l1[i]\n",
    "\n",
    "print(l1)                  "
   ]
  },
  {
   "cell_type": "code",
   "execution_count": 13,
   "id": "be6eaf0f-f441-4639-a959-2ac4b33b8c3f",
   "metadata": {},
   "outputs": [
    {
     "name": "stdout",
     "output_type": "stream",
     "text": [
      "[1, 3, 4, 5, 9]\n"
     ]
    }
   ],
   "source": [
    "# Insertion sort implementation \n",
    "arr = [9,5,1,4,3]\n",
    "def insertionSort(arr):\n",
    "    for i in range(1,len(arr)):\n",
    "        key = arr[i]\n",
    "        j = i - 1\n",
    "        while j>=0 and key<arr[j]:\n",
    "            arr[j+1] = arr[j]\n",
    "            j = j - 1\n",
    "        arr[j+1] = key\n",
    "    return arr\n",
    "       \n",
    "    \n",
    "result = insertionSort(arr)\n",
    "print(result)"
   ]
  },
  {
   "cell_type": "code",
   "execution_count": null,
   "id": "7fcfd639-785d-4ab2-951d-03a0b3d9959c",
   "metadata": {},
   "outputs": [],
   "source": []
  }
 ],
 "metadata": {
  "kernelspec": {
   "display_name": "Python 3 (ipykernel)",
   "language": "python",
   "name": "python3"
  },
  "language_info": {
   "codemirror_mode": {
    "name": "ipython",
    "version": 3
   },
   "file_extension": ".py",
   "mimetype": "text/x-python",
   "name": "python",
   "nbconvert_exporter": "python",
   "pygments_lexer": "ipython3",
   "version": "3.10.6"
  }
 },
 "nbformat": 4,
 "nbformat_minor": 5
}
