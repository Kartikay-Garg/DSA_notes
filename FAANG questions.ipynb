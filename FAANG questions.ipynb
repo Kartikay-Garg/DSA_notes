{
 "cells": [
  {
   "cell_type": "code",
   "execution_count": 1,
   "id": "0bd8d761-82c6-4746-baf2-2a7713d07e65",
   "metadata": {},
   "outputs": [
    {
     "name": "stdout",
     "output_type": "stream",
     "text": [
      "Maximum profit after buying and selling the stocks will be: 17\n"
     ]
    }
   ],
   "source": [
    "## Time complexity = O(n)\n",
    "## Space complexity = O(1)\n",
    "def findmaxprofit(prices):\n",
    "    min_price = float('inf')\n",
    "    max_price = 0\n",
    "    for i in range(len(prices)):\n",
    "        if prices[i] < min_price:\n",
    "            min_price = prices[i]\n",
    "        elif prices[i] - min_price > max_price:\n",
    "            max_price = prices[i] - min_price\n",
    "    return max_price\n",
    "\n",
    "\n",
    "prices = [9,1,2,6,5,3,8,6,18]\n",
    "max_profit = findmaxprofit(prices)\n",
    "print(\"Maximum profit after buying and selling the stocks will be:\", max_profit)"
   ]
  },
  {
   "cell_type": "code",
   "execution_count": 2,
   "id": "30bc6152-6c7f-48aa-a678-8e88292fa9ad",
   "metadata": {},
   "outputs": [
    {
     "data": {
      "text/plain": [
       "'The given points are collinear.'"
      ]
     },
     "execution_count": 2,
     "metadata": {},
     "output_type": "execute_result"
    }
   ],
   "source": [
    "## Approach 1: using slope\n",
    "## Time complexity = O(1)\n",
    "## Space complexity = O(1)\n",
    "def iscollinearpoints(x1,x2,x3,y1,y2,y3):\n",
    "    if ((y2-y1)*(x3-x2) == (x2-x1)*(y3-y2)):\n",
    "        return \"The given points are collinear.\"\n",
    "    else:\n",
    "        return \"The given points are not collinear.\"\n",
    "x1,x2,x3,y1,y2,y3 = 1,1,1,4,5,7\n",
    "iscollinearpoints(x1,x2,x3,y1,y2,y3)"
   ]
  },
  {
   "cell_type": "code",
   "execution_count": 3,
   "id": "6f735397-e3ac-41a4-8053-4451cf30c270",
   "metadata": {},
   "outputs": [
    {
     "data": {
      "text/plain": [
       "'The given points are not collinear.'"
      ]
     },
     "execution_count": 3,
     "metadata": {},
     "output_type": "execute_result"
    }
   ],
   "source": [
    "## Approach 2: using area of triangle\n",
    "## Time complexity = O(1)\n",
    "## Space complexity = O(1)\n",
    "def iscollinearpoints(x1,x2,x3,y1,y2,y3):\n",
    "    if (1/2*((x1*(y2-y3))+(x2*(y3-y1))+(x3*(y1-y2))) == 0):\n",
    "        return \"The given points are collinear.\"\n",
    "    else:\n",
    "        return \"The given points are not collinear.\"\n",
    "x1,x2,x3,y1,y2,y3 = 1,2,1,4,5,7\n",
    "iscollinearpoints(x1,x2,x3,y1,y2,y3)"
   ]
  },
  {
   "cell_type": "code",
   "execution_count": 4,
   "id": "4e1bd140-bc65-43c5-85f3-6487da66166a",
   "metadata": {},
   "outputs": [
    {
     "name": "stdout",
     "output_type": "stream",
     "text": [
      "Counter({2: 5, 1: 3})\n",
      "The majority element in an array will be  2\n"
     ]
    }
   ],
   "source": [
    "## Approach 2: Dictionary based data structure\n",
    "## Time complexity = O(n)\n",
    "## Space complexity = O(n)\n",
    "from collections import Counter\n",
    "def majorityElement(nums):\n",
    "    counts = Counter(nums)\n",
    "    print(counts)\n",
    "    return max(counts.keys(), key = counts.get)\n",
    "nums = [2,2,1,1,1,2,2,2]\n",
    "result = majorityElement(nums)\n",
    "print(\"The majority element in an array will be \", result)"
   ]
  },
  {
   "cell_type": "code",
   "execution_count": 5,
   "id": "1d18be9c-2c3c-4a77-b918-8f8791d3cba0",
   "metadata": {},
   "outputs": [
    {
     "name": "stdout",
     "output_type": "stream",
     "text": [
      "Majority Element in an array is 2\n"
     ]
    }
   ],
   "source": [
    "## Approach 3 - Boyer Moore Voting Algorithm\n",
    "## Time complexity = O(n)\n",
    "## Space complexity = O(1)\n",
    "def findCandidate(nums):\n",
    "    count = 0\n",
    "    candidate = None\n",
    "    for num in nums:\n",
    "        if count == 0:\n",
    "            candidate = num\n",
    "        count += (1 if num == candidate else -1)\n",
    "    return candidate\n",
    "\n",
    "def isMajority(nums, candidate):\n",
    "    cnt = 0\n",
    "    n = len(nums)\n",
    "    for i in range(n):\n",
    "        if nums[i] == candidate:\n",
    "            cnt += 1\n",
    "    if cnt > n/2:\n",
    "        return 1\n",
    "    else:\n",
    "        return 0\n",
    "    \n",
    "def printmajorityElement(nums):\n",
    "    cand = findCandidate(nums)\n",
    "    if isMajority(nums, cand):\n",
    "        print(\"Majority Element in an array is\", cand)\n",
    "    else:\n",
    "        print(\"No majority element exists in an array\")\n",
    "   \n",
    "\n",
    "\n",
    "nums = [2, 2, 1, 1, 1, 2, 2]\n",
    "#nums = [2, 2, 7, 3, 4]\n",
    "printmajorityElement(nums)"
   ]
  },
  {
   "cell_type": "code",
   "execution_count": 6,
   "id": "ece94b80-2194-4872-aee2-2f797e171d23",
   "metadata": {},
   "outputs": [
    {
     "data": {
      "text/plain": [
       "[0, 0, 1, 1, 2, 2]"
      ]
     },
     "execution_count": 6,
     "metadata": {},
     "output_type": "execute_result"
    }
   ],
   "source": [
    "## Time Complexity = O(n)\n",
    "## Space complexity = O(1)\n",
    "def sortcolors(nums):\n",
    "    p0 = curr = 0\n",
    "    p2 = len(nums) - 1\n",
    "    while curr <= p2:\n",
    "        if nums[curr] == 0:\n",
    "            nums[p0],nums[curr] = nums[curr],nums[p0]\n",
    "            p0 += 1\n",
    "            curr += 1\n",
    "        elif nums[curr] == 2:\n",
    "            nums[p2],nums[curr] = nums[curr],nums[p2]\n",
    "            p2 -= 1 \n",
    "        else:\n",
    "            curr += 1 \n",
    "    return nums\n",
    "\n",
    "nums = [2,0,2,1,1,0]\n",
    "sortcolors(nums)"
   ]
  },
  {
   "cell_type": "code",
   "execution_count": null,
   "id": "a2390511-f5c5-47bb-bbe4-8103c76dcf1b",
   "metadata": {},
   "outputs": [],
   "source": []
  }
 ],
 "metadata": {
  "kernelspec": {
   "display_name": "Python 3 (ipykernel)",
   "language": "python",
   "name": "python3"
  },
  "language_info": {
   "codemirror_mode": {
    "name": "ipython",
    "version": 3
   },
   "file_extension": ".py",
   "mimetype": "text/x-python",
   "name": "python",
   "nbconvert_exporter": "python",
   "pygments_lexer": "ipython3",
   "version": "3.10.6"
  }
 },
 "nbformat": 4,
 "nbformat_minor": 5
}
