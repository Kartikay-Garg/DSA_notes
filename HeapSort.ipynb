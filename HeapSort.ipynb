{
 "cells": [
  {
   "cell_type": "code",
   "execution_count": 3,
   "id": "90dbdf7d-94cf-402e-96d7-8a644bd5be29",
   "metadata": {},
   "outputs": [
    {
     "name": "stdout",
     "output_type": "stream",
     "text": [
      "Counter({1: 5, 2: 3, 3: 2, 4: 1})\n",
      "The most frequent element in the given array will be: [1, 2]\n"
     ]
    }
   ],
   "source": [
    "## Ques 1\n",
    "from collections import Counter\n",
    "import heapq\n",
    "def mostfrequentelement(arr,k):\n",
    "    if k == len(arr):\n",
    "        return set(arr)\n",
    "    count = Counter(arr)\n",
    "    print(count)\n",
    "    return heapq.nlargest(k,count.keys(),key = count.get)\n",
    "\n",
    "arr = [1,1,1,1,1,2,2,2,3,3,4]\n",
    "k = 2\n",
    "result = mostfrequentelement(arr,k)\n",
    "print(\"The most frequent element in the given array will be:\", result)"
   ]
  },
  {
   "cell_type": "code",
   "execution_count": 18,
   "id": "41a09ec9-4be1-40ae-8017-62d7dda9c9ca",
   "metadata": {},
   "outputs": [
    {
     "name": "stdout",
     "output_type": "stream",
     "text": [
      "The top K closest points to the origin are: [(3, 3), (-2, 4)]\n"
     ]
    }
   ],
   "source": [
    "## Ques 2 \n",
    "import math\n",
    "from heapq import heappush, heappop\n",
    "def getdist(x,y):\n",
    "    return math.sqrt(x**2+y**2)\n",
    "def topKclosest(points,k):\n",
    "    minheap = []\n",
    "    for i in range(len(points)):\n",
    "        x = points[i][0]\n",
    "        y = points[i][1]\n",
    "        \n",
    "        heappush(minheap,(getdist(x,y),points[i]))\n",
    "    result = []\n",
    "    for i in range(k):\n",
    "        result.append(heappop(minheap)[1])\n",
    "    return result\n",
    "        \n",
    "\n",
    "points = [(3,3),(5,-1),(-2,4)]\n",
    "k = 2\n",
    "result = topKclosest(points,k)\n",
    "print(\"The top K closest points to the origin are:\", result)"
   ]
  },
  {
   "cell_type": "code",
   "execution_count": null,
   "id": "0a59b726-ad66-4417-b386-221096ac73c5",
   "metadata": {},
   "outputs": [],
   "source": []
  }
 ],
 "metadata": {
  "kernelspec": {
   "display_name": "Python 3 (ipykernel)",
   "language": "python",
   "name": "python3"
  },
  "language_info": {
   "codemirror_mode": {
    "name": "ipython",
    "version": 3
   },
   "file_extension": ".py",
   "mimetype": "text/x-python",
   "name": "python",
   "nbconvert_exporter": "python",
   "pygments_lexer": "ipython3",
   "version": "3.10.6"
  }
 },
 "nbformat": 4,
 "nbformat_minor": 5
}
